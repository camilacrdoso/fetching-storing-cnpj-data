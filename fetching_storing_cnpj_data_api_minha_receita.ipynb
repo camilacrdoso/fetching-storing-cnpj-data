{
 "cells": [
  {
   "cell_type": "markdown",
   "id": "cardiovascular-captain",
   "metadata": {},
   "source": [
    "# Obtendo dados de CNPJ's com a API Minha Receita\n",
    "\n",
    "Este projeto utiliza Python para fazer requisições à [API Minha Receita](https://docs.minhareceita.org/), uma iniciativa da sociedade civil que disponibiliza, de forma gratuita e acessível, dados da Receita Federal.\n",
    "\n",
    "Neste tutorial/registro do projeto, veremos:\n",
    "- Como realizar conexão com PostgreSQL para que o Python possa acessar o conteúdo de um banco de dados;\n",
    "- Como fazer requisições para a API Minha Receita e obter informações associadas a um CNPJ segundo a Receita Federal;\n",
    "- Como armazenar a resposta da API em um banco de dados PostgreSQL.\n",
    "\n",
    "Este projeto foi desenvolvido como parte das atividades do [Instituto Brasileiro de Defesa do Consumidor (Idec)](https://idec.org.br/), que está utilizando dados da [Agência Nacional de Energia Elétrica (ANEEL)](http://aneel.gov.br/) para analisar o perfil socioeconômico dos adotantes de Geração Distribuída no país. Entretanto, o código disponibilizado pode ser utilizado em diversas outras aplicações."
   ]
  },
  {
   "cell_type": "markdown",
   "id": "white-object",
   "metadata": {},
   "source": [
    "## Conexão com PostgreSQL\n",
    "Nosso objetivo é fazer requisições à API Minha Receita para obter dados de +46mil CNPJ's. Esses CNPJ's estão armazenados em uma tabela PostgreSQL, por isso, primeiro precisamos realizar a conexão com o banco de dados e fazer com que o Python tenha acesso à lista de CNPJ's.  \n",
    "  \n",
    "Para fazer essa conexão, estamos usando a biblioteca [Psycopg](https://www.psycopg.org/docs/), que permite que o Python conecte-se a um banco de dados PostgreSQL. A função `sql_conection()` realiza a conexão e será utilizada em todos os momento em que for necessário interagir com o banco de dados."
   ]
  },
  {
   "cell_type": "code",
   "execution_count": 1,
   "id": "level-tablet",
   "metadata": {},
   "outputs": [],
   "source": [
    "import psycopg2\n",
    "def sql_connection():\n",
    "    # Realiza a conexão com o banco de dados PostgreSQL e retorna a variável que será utilizada para interagir com o banco\n",
    "    database = ''\n",
    "    user = ''\n",
    "    password = ''\n",
    "    host = ''\n",
    "    port = ''\n",
    "    con = psycopg2.connect(database=database,\n",
    "                           user=user,\n",
    "                           password=password,\n",
    "                           host=host,\n",
    "                           port=port)\n",
    "    return con"
   ]
  },
  {
   "cell_type": "markdown",
   "id": "julian-management",
   "metadata": {},
   "source": [
    "Nosso banco de dados contém uma tabela com vários dados, entre os quais está o CNPJ dos adotantes de Geração Distribuída. Vamos fazer uma query para essa tabela e armazenar os CNPJ's únicos em um dataframe."
   ]
  },
  {
   "cell_type": "code",
   "execution_count": 3,
   "id": "bright-recovery",
   "metadata": {},
   "outputs": [
    {
     "name": "stdout",
     "output_type": "stream",
     "text": [
      "Total de CNPJs únicos: 46911\n"
     ]
    }
   ],
   "source": [
    "import pandas as pd\n",
    "import pandas.io.sql as sqlio\n",
    "def query_to_df(query):\n",
    "    # Dada uma query PostgreSQL, realiza a query no banco de dados e armazena o resultado em um dataframe\n",
    "    con = sql_connection()\n",
    "    data_set = sqlio.read_sql_query(query, con)\n",
    "    return data_set\n",
    "\n",
    "\n",
    "query = 'select distinct(cpf_cnpj) from ligacoes_gd lg where length(cpf_cnpj) > 11'\n",
    "df_cnpj = query_to_df(query)\n",
    "print('Total de CNPJs únicos:', len(df_cnpj))"
   ]
  },
  {
   "cell_type": "markdown",
   "id": "tested-death",
   "metadata": {},
   "source": [
    "## Fazendo requisições para a API Minha Receita\n",
    "Por enquanto, temos uma lista com 46.911 CNPJ's, mas não temos nenhuma informação sobre eles. Felizmente, podemos fazer requisições à API Minha Receita e obter informações da Receita Federal sobre cada um desses CNPJ's.  \n",
    "  \n",
    "A função `get_cnpj_data(cnpj)` utiliza a biblioteca [Requests](https://requests.readthedocs.io/en/master/) para realizar uma requisição à API, procurando por um CNPJ, e retorna os dados encontrados."
   ]
  },
  {
   "cell_type": "code",
   "execution_count": 5,
   "id": "floppy-sword",
   "metadata": {},
   "outputs": [],
   "source": [
    "import requests\n",
    "def get_cnpj_data(cnpj):\n",
    "    # Dado um CNPJ, faz uma requisição para a API Minha Receita. Caso a requisição seja bem sucedida, retorna o conteúdo da requisição em formato json\n",
    "    minha_receita_api_url = 'https://minhareceita.org/'\n",
    "    r = requests.post(minha_receita_api_url, data=cnpj, timeout=None)\n",
    "    if r.status_code == 200:\n",
    "        return json.loads(r.content)"
   ]
  },
  {
   "cell_type": "markdown",
   "id": "polished-athletics",
   "metadata": {},
   "source": [
    "Para nos familiarizarmos com a resposta da API, vamos fazer uma requisição de exemplo e utilizar a função `jprint()` para gerar uma visualização amigável do objeto json retornado pela API."
   ]
  },
  {
   "cell_type": "code",
   "execution_count": 18,
   "id": "greek-composite",
   "metadata": {},
   "outputs": [
    {
     "name": "stdout",
     "output_type": "stream",
     "text": [
      "{\n",
      "    \"bairro\": \"BELA VISTA\",\n",
      "    \"capital_social\": 0,\n",
      "    \"cep\": \"01311902\",\n",
      "    \"cnae_fiscal\": 9430800,\n",
      "    \"cnae_fiscal_descricao\": \"Atividades de associações de defesa de direitos sociais\",\n",
      "    \"cnaes_secundarias\": [\n",
      "        {\n",
      "            \"codigo\": 9493600,\n",
      "            \"descricao\": \"Atividades de organizações associativas ligadas à cultura e à arte\"\n",
      "        },\n",
      "        {\n",
      "            \"codigo\": 9499500,\n",
      "            \"descricao\": \"Atividades associativas não especificadas anteriormente\"\n",
      "        },\n",
      "        {\n",
      "            \"codigo\": 8599699,\n",
      "            \"descricao\": \"Outras atividades de ensino não especificadas anteriormente\"\n",
      "        },\n",
      "        {\n",
      "            \"codigo\": 8230001,\n",
      "            \"descricao\": \"Serviços de organização de feiras, congressos, exposições e festas\"\n",
      "        },\n",
      "        {\n",
      "            \"codigo\": 6204000,\n",
      "            \"descricao\": \"Consultoria em tecnologia da informação\"\n",
      "        }\n",
      "    ],\n",
      "    \"cnpj\": \"19131243000197\",\n",
      "    \"codigo_municipio\": 7107,\n",
      "    \"codigo_natureza_juridica\": 3999,\n",
      "    \"complemento\": \"ANDAR 4\",\n",
      "    \"data_exclusao_do_simples\": null,\n",
      "    \"data_inicio_atividade\": \"2013-10-03\",\n",
      "    \"data_opcao_pelo_simples\": null,\n",
      "    \"data_situacao_cadastral\": \"2013-10-03\",\n",
      "    \"data_situacao_especial\": null,\n",
      "    \"ddd_fax\": \"\",\n",
      "    \"ddd_telefone_1\": \"11  23851939\",\n",
      "    \"ddd_telefone_2\": \"\",\n",
      "    \"descricao_matriz_filial\": \"Matriz\",\n",
      "    \"descricao_porte\": \"Demais\",\n",
      "    \"descricao_situacao_cadastral\": \"Ativa\",\n",
      "    \"descricao_tipo_logradouro\": \"AVENIDA\",\n",
      "    \"identificador_matriz_filial\": 1,\n",
      "    \"logradouro\": \"PAULISTA 37\",\n",
      "    \"motivo_situacao_cadastral\": 0,\n",
      "    \"municipio\": \"SAO PAULO\",\n",
      "    \"nome_cidade_exterior\": \"\",\n",
      "    \"nome_fantasia\": \"REDE PELO CONHECIMENTO LIVRE\",\n",
      "    \"numero\": \"37\",\n",
      "    \"opcao_pelo_mei\": false,\n",
      "    \"opcao_pelo_simples\": false,\n",
      "    \"porte\": 5,\n",
      "    \"qsa\": [\n",
      "        {\n",
      "            \"cnpj\": \"19131243000197\",\n",
      "            \"cnpj_cpf_do_socio\": \"\",\n",
      "            \"codigo_qualificacao_representante_legal\": 0,\n",
      "            \"codigo_qualificacao_socio\": 16,\n",
      "            \"cpf_representante_legal\": \"\",\n",
      "            \"data_entrada_sociedade\": \"2019-10-25\",\n",
      "            \"identificador_de_socio\": 2,\n",
      "            \"nome_representante_legal\": \"\",\n",
      "            \"nome_socio\": \"FERNANDA CAMPAGNUCCI PEREIRA\",\n",
      "            \"percentual_capital_social\": 0\n",
      "        }\n",
      "    ],\n",
      "    \"qualificacao_do_responsavel\": 16,\n",
      "    \"razao_social\": \"OPEN KNOWLEDGE BRASIL\",\n",
      "    \"situacao_cadastral\": 2,\n",
      "    \"situacao_especial\": \"\",\n",
      "    \"uf\": \"SP\"\n",
      "}\n"
     ]
    }
   ],
   "source": [
    "import json\n",
    "def jprint(obj):\n",
    "    # Cria visualização amigável de um objeto json\n",
    "    text = json.dumps(obj, sort_keys=True, indent=4, ensure_ascii=False)\n",
    "    print(text)\n",
    "\n",
    "\n",
    "cnpj_example = {'cnpj': 19131243000197}\n",
    "response_example = get_cnpj_data(cnpj_example)\n",
    "jprint(response_example)"
   ]
  },
  {
   "cell_type": "markdown",
   "id": "alone-welding",
   "metadata": {},
   "source": [
    "## Obtendo dados de +46mil CNPJ's\n",
    "Agora que fizemos uma requisição de exemplo e estamos familiarizados com a resposta da API, podemos seguir para a parte divertida e finalmente obter os dados da Receita Federal sobre os 46.911 CNPJ's nos quais estamos interessados.  \n",
    "  \n",
    "Primeiro, vamos criar uma tabela PostgreSQL para armazenar nossos dados. Entre todas as informações que retornam da API, escolhemos apenas algumas variáveis principais, que são mais interessantes para as análises futuras.  \n",
    "  \n",
    "Utilizamos o método [connection.cursor()](https://www.psycopg.org/docs/cursor.html), que permite que o Python execute comandos em um banco de dados PostgreSQL. Repare que, após executar o comando, é necessário utilizar também o método [connection.commit()](https://www.psycopg.org/docs/connection.html#connection.commit) para garantir que as mudanças no banco de dados sejam feitas."
   ]
  },
  {
   "cell_type": "code",
   "execution_count": 7,
   "id": "dependent-works",
   "metadata": {},
   "outputs": [],
   "source": [
    "def create_sql_table():\n",
    "    # Cria uma tabela PostgreSQL para armazenar os dados dos CNPJ's\n",
    "    con = sql_connection()\n",
    "    with con.cursor() as cur:\n",
    "        create_table_command = 'create table if not exists cnpj_data('\\\n",
    "            'cnpj varchar(100),'\\\n",
    "            'razao_social varchar(250),'\\\n",
    "            'nome_fantasia varchar(250),'\\\n",
    "            'atividade_principal_codigo varchar(50),'\\\n",
    "            'atividade_principal_descricao varchar(1000),'\\\n",
    "            'situacao_cadastral varchar(50),'\\\n",
    "            'capital_social float,'\\\n",
    "            'porte varchar(50),'\\\n",
    "            'codigo_natureza_juridica int,'\\\n",
    "            'data_abertura date,'\\\n",
    "            'cep varchar(50),'\\\n",
    "            'municipio varchar(100),'\\\n",
    "            'uf varchar(2)'\\\n",
    "            ')'\n",
    "        cur.execute(create_table_command)\n",
    "        con.commit()\n",
    "create_sql_table()"
   ]
  },
  {
   "attachments": {
    "Capture-2.JPG": {
     "image/jpeg": "[encoded data removed]"
    }
   },
   "cell_type": "markdown",
   "id": "emerging-championship",
   "metadata": {},
   "source": [
    "Uma vez criada a tabela, podemos começar a alimentá-la com os dados dos CNPJ's. Para isso, vamos considerar a orientação da [documentação do PostgreSQL](https://www.postgresql.org/docs/current/populate.html#POPULATE-COPY-FROM) de que a melhor forma de alimentar uma tabela é usando o comando COPY FROM. Uma demonstração sobre o melhor desempenho do COPY FROM em relação a outros métodos pode ser encontrada [nesta análise](https://hakibenita.com/fast-load-data-python-postgresql), que avalia a performance de diferentes formas de importar dados de uma fonte remota para uma tabela PostgreSQL.\n",
    "\n",
    "Assim, para alimentar nossa tabela, seguiremos o seguinte fluxo:  \n",
    "![Capture-2.JPG](attachment:Capture-2.JPG)  \n",
    "  \n",
    "Vamos começar definindo as funções que utilizaremos para armazenar os dados da resposta da API em um dataframe. Repare que, na função `cnpj_data_to_df()`, caso o CNPJ não seja encontrado e a resposta da API volte com valor nulo, iremos adicionar o CNPJ ao dataframe mesmo assim, porém com valores nulos nas colunas de informações. Isso nos ajudará a ter controle sobre quais CNPJ's foram encontrados e quais não foram."
   ]
  },
  {
   "cell_type": "code",
   "execution_count": 8,
   "id": "spanish-mining",
   "metadata": {},
   "outputs": [],
   "source": [
    "def clean_text(full_text):\n",
    "    # Limpa um texto, retirando quebras de linha e ponto-e-vírgulas\n",
    "    clean_text = full_text.replace(\"\\n\", \" \")\n",
    "    clean_text = full_text.replace(\";\", \" \")\n",
    "    return clean_text\n",
    "\n",
    "\n",
    "def cnpj_data_to_df(df_cnpj):\n",
    "    # Recebe um dataframe contendo os CNPJ's e, a partir das requisições à API Minha Receita, estrutura um dataframe contendo os dados do CNPJ\n",
    "    data_set = pd.DataFrame(columns=[\n",
    "        'cnpj',\n",
    "        'razao_social',\n",
    "        'nome_fantasia',\n",
    "        'atividade_principal_codigo',\n",
    "        'atividade_principal_descricao',\n",
    "        'situacao_cadastral',\n",
    "        'capital_social',\n",
    "        'porte',\n",
    "        'codigo_natureza_juridica',\n",
    "        'data_abertura',\n",
    "        'cep',\n",
    "        'municipio',\n",
    "        'uf'\n",
    "    ])\n",
    "    for cnpj in df_cnpj['cpf_cnpj']:\n",
    "        cnpj_data = get_cnpj_data({'cnpj': cnpj})\n",
    "        if cnpj_data != None:\n",
    "            new_row = {\n",
    "                'cnpj': cnpj,\n",
    "                'razao_social': cnpj_data['razao_social'],\n",
    "                'nome_fantasia': cnpj_data['nome_fantasia'],\n",
    "                'atividade_principal_codigo': cnpj_data['cnae_fiscal'],\n",
    "                'atividade_principal_descricao': clean_text(cnpj_data['cnae_fiscal_descricao']),\n",
    "                'situacao_cadastral': cnpj_data['descricao_situacao_cadastral'],\n",
    "                'capital_social': float(cnpj_data['capital_social']),\n",
    "                'porte': cnpj_data['descricao_porte'],\n",
    "                'codigo_natureza_juridica': int(cnpj_data['codigo_natureza_juridica']),\n",
    "                'data_abertura': cnpj_data['data_inicio_atividade'],\n",
    "                'cep': cnpj_data['cep'],\n",
    "                'municipio': cnpj_data['municipio'],\n",
    "                'uf': cnpj_data['uf'],\n",
    "            }\n",
    "        else:\n",
    "            new_row = {'cnpj': cnpj}\n",
    "        data_set = data_set.append(new_row, ignore_index=True)\n",
    "    return data_set"
   ]
  },
  {
   "cell_type": "markdown",
   "id": "measured-spending",
   "metadata": {},
   "source": [
    "Agora podemos definir a função `df_to_csv()`, que exporta o dataframe para um csv temporário, e a função `csv_to_sql_table()`, que utiliza o COPY FROM para alimentar a tabela PostgreSQL."
   ]
  },
  {
   "cell_type": "code",
   "execution_count": 9,
   "id": "found-method",
   "metadata": {},
   "outputs": [],
   "source": [
    "def df_to_csv(csv_path, data_set):\n",
    "    # Exporta um dataframe para um arquivo csv\n",
    "    data_set.to_csv(csv_path, header=False, index=False, sep=';',\n",
    "                    encoding='utf-8', quoting=csv.QUOTE_MINIMAL)\n",
    "\n",
    "\n",
    "def csv_to_sql_table(csv_path):\n",
    "    # Alimenta a tabela PostgreSQL com os dados dos CNPJ's\n",
    "    con = sql_connection()\n",
    "    with con.cursor() as cur:\n",
    "        cur.execute('copy cnpj_data from %s delimiter %s csv', [csv_path, ';'])\n",
    "        con.commit()"
   ]
  },
  {
   "cell_type": "markdown",
   "id": "proper-interval",
   "metadata": {},
   "source": [
    "Com todas as funções definidas, podemos agora iterar sobre o dataframe `df_cnpj`, que contém os CNPJ's, e fazer requisições à API Minha Receita. Vamos armazenar as respostas na tabela PostgreSQL em lotes de 1000 CNPJ's para garantir que, caso ocorra um erro enquanto o código roda, não perderemos os dados das requisições já realizadas."
   ]
  },
  {
   "cell_type": "code",
   "execution_count": null,
   "id": "interracial-customs",
   "metadata": {},
   "outputs": [],
   "source": [
    "csv_path = r'C:\\Users\\Public\\temp_cnpj_data.csv'\n",
    "df_cnpj_data = pd.DataFrame()\n",
    "for i in range(13000, len(df_cnpj), 1000):\n",
    "    new_batch = cnpj_data_to_df(df_cnpj[i:i+1000])\n",
    "    df_to_csv(csv_path, new_batch)\n",
    "    csv_to_sql_table(csv_path)\n",
    "    df_cnpj_data = df_cnpj_data.append(new_batch, ignore_index=True)\n",
    "    print(i)"
   ]
  },
  {
   "cell_type": "markdown",
   "id": "given-source",
   "metadata": {},
   "source": [
    "Para finalizar, vamos checar quantos CNPJ's foram encontrados e quantos não foram."
   ]
  },
  {
   "cell_type": "code",
   "execution_count": 12,
   "id": "declared-sixth",
   "metadata": {},
   "outputs": [
    {
     "name": "stdout",
     "output_type": "stream",
     "text": [
      "De 46911 CNPJs, foram encontrados 46851\n",
      "Não foram encontrados 0.13 % dos CNPJs buscados.\n"
     ]
    }
   ],
   "source": [
    "query = 'select * from cnpj_data'\n",
    "df_cnpj_data = query_to_df(query)\n",
    "\n",
    "empty_columns = ['razao_social',\n",
    "                 'nome_fantasia',\n",
    "                 'atividade_principal_codigo',\n",
    "                 'atividade_principal_descricao',\n",
    "                 'situacao_cadastral',\n",
    "                 'capital_social',\n",
    "                 'porte',\n",
    "                 'codigo_natureza_juridica',\n",
    "                 'data_abertura',\n",
    "                 'cep',\n",
    "                 'municipio',\n",
    "                 'uf'\n",
    "                 ]\n",
    "\n",
    "df_found_cnpj = df_cnpj_data.dropna(axis=0, how='all', subset=empty_columns)\n",
    "percentage_not_found_cnpj = 100*(1 - (len(df_found_cnpj)/len(df_cnpj_data)))\n",
    "print('De', len(df_cnpj_data), 'CNPJs, foram encontrados', len(df_found_cnpj))\n",
    "print('Não foram encontrados', round(percentage_not_found_cnpj, 2), '% dos CNPJs buscados.')"
   ]
  },
  {
   "cell_type": "markdown",
   "id": "optional-independence",
   "metadata": {},
   "source": [
    "## Conclusões\n",
    "\n",
    "Neste projeto, utilizamos Python para acessar e manipular um bancos de dados PostgreSQL. Conseguimos obter informações de +46mil CNPJ's, com apenas 0,13% dos dados não encontrados. Para isso, a API Minha Receita foi um recurso essencial, já que ela diponibiliza os dados da Receita Federal de forma gratuita e acessível.  \n",
    "  \n",
    "Com este tutorial, espero ter contribuído para desvendar possíveis dúvidas sobre como utilizar a biblioteca Psycopg para conectar o Python a um banco de dados PostgreSQL e a biblioteca Requests para realizar requisições a uma API. \n",
    "  \n",
    "Espero também que o projeto contribua para que mais pessoas conheçam e utilizem a API Minha Receita. \n",
    "\n"
   ]
  }
 ],
 "metadata": {
  "kernelspec": {
   "display_name": "Python 3",
   "language": "python",
   "name": "python3"
  },
  "language_info": {
   "codemirror_mode": {
    "name": "ipython",
    "version": 3
   },
   "file_extension": ".py",
   "mimetype": "text/x-python",
   "name": "python",
   "nbconvert_exporter": "python",
   "pygments_lexer": "ipython3",
   "version": "3.9.0"
  }
 },
 "nbformat": 4,
 "nbformat_minor": 5
}
